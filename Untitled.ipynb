{
 "cells": [
  {
   "cell_type": "markdown",
   "metadata": {},
   "source": [
    "# Creating Test Datasets From Source\n",
    "\n",
    "### Append (Stack)\n",
    "\n",
    "> Pass (no variance in in/out params) - no lengthening\n",
    "\n",
    "> Pass (no variance in in/out params) - with lengthening\n",
    "\n",
    "> Pass with warning (new columns)\n",
    "\n",
    "> Pass with warning (cast child dataset to parent datatype)\n",
    "\n",
    "> Fail (cast of child fails to meet parent specification)\n",
    "\n",
    "\n",
    "### Merge (History Preserving)\n",
    "\n",
    "> Pass (no variance in in/out params) - no lengthening\n",
    "\n",
    "> Pass (no variance in in/out params) - with lengthening\n",
    "\n",
    "> Pass with warning (new columns)\n",
    "\n",
    "> Pass with warning (cast child dataset to parent datatype)\n",
    "\n",
    "> Fail (cast of child fails to meet parent specification)\n",
    "\n",
    "\n",
    "### Replace\n",
    "\n",
    "> Pass (Output == Child)"
   ]
  },
  {
   "cell_type": "code",
   "execution_count": 1,
   "metadata": {},
   "outputs": [],
   "source": [
    "import pandas as pd"
   ]
  },
  {
   "cell_type": "code",
   "execution_count": 2,
   "metadata": {},
   "outputs": [],
   "source": [
    "source = pd.read_csv('source_complete.csv', encoding='latin-1')"
   ]
  },
  {
   "cell_type": "markdown",
   "metadata": {},
   "source": [
    "### Case Class\n",
    "\n",
    "This is a bundle container for holding multiple transforms needed for making each pass, fail, case."
   ]
  },
  {
   "cell_type": "code",
   "execution_count": 3,
   "metadata": {},
   "outputs": [],
   "source": [
    "from case import Case"
   ]
  },
  {
   "cell_type": "code",
   "execution_count": 4,
   "metadata": {},
   "outputs": [
    {
     "data": {
      "text/plain": [
       "{'message': 'empty'}"
      ]
     },
     "execution_count": 4,
     "metadata": {},
     "output_type": "execute_result"
    }
   ],
   "source": [
    "c = Case(source=source)\n",
    "c.report"
   ]
  },
  {
   "cell_type": "markdown",
   "metadata": {},
   "source": [
    "### Transformers\n",
    "\n",
    "These do the heavy lifting, taking in data, making changes, and returning necessary outputs."
   ]
  },
  {
   "cell_type": "code",
   "execution_count": 5,
   "metadata": {},
   "outputs": [],
   "source": [
    "from transformers import Transformer"
   ]
  },
  {
   "cell_type": "code",
   "execution_count": 6,
   "metadata": {},
   "outputs": [
    {
     "data": {
      "text/plain": [
       "{'message': 'empty'}"
      ]
     },
     "execution_count": 6,
     "metadata": {},
     "output_type": "execute_result"
    }
   ],
   "source": [
    "t = Transformer(name='test')\n",
    "t.transform(source)\n",
    "t.report"
   ]
  },
  {
   "cell_type": "code",
   "execution_count": 7,
   "metadata": {},
   "outputs": [],
   "source": [
    "## GOAl UI\n",
    "## How should the user interact with the transformers?\n",
    "\n",
    "# case.split(n=, size=[float])  # Split dataset into parts\n",
    "# case.add_col(n=, column=, specs={DATAGEN})  # Add column of given specificatuion to dataset\n",
    "# case.remove_col(n=, column=, index=)  # Remove column from dataset\n",
    "# case.change_type(n=, column=, index=)  # Change datatype of column in dataset"
   ]
  },
  {
   "cell_type": "markdown",
   "metadata": {},
   "source": [
    "#### Split\n",
    "\n",
    "Split data into n components of specified size"
   ]
  },
  {
   "cell_type": "code",
   "execution_count": 8,
   "metadata": {},
   "outputs": [],
   "source": [
    "from transformers import SplitTransform"
   ]
  },
  {
   "cell_type": "code",
   "execution_count": 9,
   "metadata": {},
   "outputs": [
    {
     "name": "stdout",
     "output_type": "stream",
     "text": [
      "Breakpoints:  [0, 26908, 80724, 96868]\n",
      "0:26908\n",
      "26908:80724\n",
      "80724:96868\n",
      "4\n"
     ]
    },
    {
     "data": {
      "text/plain": [
       "{'Transformer': 'split',\n",
       " 'input_shape': (107633, 3),\n",
       " 'output_shape': {0: (26908, 3), 1: (53816, 3), 2: (16144, 3), 3: (10765, 3)},\n",
       " 'message': 'Data successfully split into 4 pieces'}"
      ]
     },
     "execution_count": 9,
     "metadata": {},
     "output_type": "execute_result"
    }
   ],
   "source": [
    "st = SplitTransform(n=4, size=[0.25, 0.5, 0.15, 0.1], data=source.copy())\n",
    "st.report"
   ]
  },
  {
   "cell_type": "code",
   "execution_count": null,
   "metadata": {},
   "outputs": [],
   "source": []
  },
  {
   "cell_type": "code",
   "execution_count": null,
   "metadata": {},
   "outputs": [],
   "source": [
    "\n",
    "\n",
    "\n",
    "\n",
    "\n",
    "\n",
    "\n",
    "\n",
    "\n",
    "\n",
    "\n",
    "\n",
    "\n",
    "\n",
    "\n",
    "\n",
    "\n",
    "\n",
    "\n"
   ]
  }
 ],
 "metadata": {
  "kernelspec": {
   "display_name": "Python 3",
   "language": "python",
   "name": "python3"
  },
  "language_info": {
   "codemirror_mode": {
    "name": "ipython",
    "version": 3
   },
   "file_extension": ".py",
   "mimetype": "text/x-python",
   "name": "python",
   "nbconvert_exporter": "python",
   "pygments_lexer": "ipython3",
   "version": "3.7.4"
  }
 },
 "nbformat": 4,
 "nbformat_minor": 4
}

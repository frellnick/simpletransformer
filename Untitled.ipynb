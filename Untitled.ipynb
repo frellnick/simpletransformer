{
 "cells": [
  {
   "cell_type": "markdown",
   "metadata": {},
   "source": [
    "# Creating Test Datasets From Source\n",
    "\n",
    "### Append (Stack)\n",
    "\n",
    "> Pass (no variance in in/out params) - no lengthening\n",
    "\n",
    "> Pass (no variance in in/out params) - with lengthening\n",
    "\n",
    "> Pass with warning (new columns)\n",
    "\n",
    "> Pass with warning (cast child dataset to parent datatype)\n",
    "\n",
    "> Fail (cast of child fails to meet parent specification)\n",
    "\n",
    "\n",
    "### Merge (History Preserving)\n",
    "\n",
    "> Pass (no variance in in/out params) - no lengthening\n",
    "\n",
    "> Pass (no variance in in/out params) - with lengthening\n",
    "\n",
    "> Pass with warning (new columns)\n",
    "\n",
    "> Pass with warning (cast child dataset to parent datatype)\n",
    "\n",
    "> Fail (cast of child fails to meet parent specification)\n",
    "\n",
    "\n",
    "### Replace\n",
    "\n",
    "> Pass (Output == Child)"
   ]
  },
  {
   "cell_type": "code",
   "execution_count": 3,
   "metadata": {},
   "outputs": [],
   "source": [
    "import pandas as pd"
   ]
  },
  {
   "cell_type": "code",
   "execution_count": 4,
   "metadata": {},
   "outputs": [
    {
     "data": {
      "text/html": [
       "<div>\n",
       "<style scoped>\n",
       "    .dataframe tbody tr th:only-of-type {\n",
       "        vertical-align: middle;\n",
       "    }\n",
       "\n",
       "    .dataframe tbody tr th {\n",
       "        vertical-align: top;\n",
       "    }\n",
       "\n",
       "    .dataframe thead th {\n",
       "        text-align: right;\n",
       "    }\n",
       "</style>\n",
       "<table border=\"1\" class=\"dataframe\">\n",
       "  <thead>\n",
       "    <tr style=\"text-align: right;\">\n",
       "      <th></th>\n",
       "      <th>C_CRS_SBJ</th>\n",
       "      <th>C_TITLE</th>\n",
       "      <th>C_CRS_UNIQUE</th>\n",
       "    </tr>\n",
       "  </thead>\n",
       "  <tbody>\n",
       "    <tr>\n",
       "      <th>0</th>\n",
       "      <td>ANTH</td>\n",
       "      <td>PERSPECTIVES ON RACE (DSS)(CI)</td>\n",
       "      <td>ANTH3200TO1</td>\n",
       "    </tr>\n",
       "    <tr>\n",
       "      <th>1</th>\n",
       "      <td>CHEM</td>\n",
       "      <td>GENERAL CHEMISTRY I (BPS)</td>\n",
       "      <td>CHEM1110KB1</td>\n",
       "    </tr>\n",
       "    <tr>\n",
       "      <th>2</th>\n",
       "      <td>COMD</td>\n",
       "      <td>ETHICS/CRTCL THNK INTERPRETERS</td>\n",
       "      <td>COMD5920LO1</td>\n",
       "    </tr>\n",
       "    <tr>\n",
       "      <th>3</th>\n",
       "      <td>ECN</td>\n",
       "      <td>APPLIED ECONOMETRICS (QI)</td>\n",
       "      <td>ECN4330AO1</td>\n",
       "    </tr>\n",
       "    <tr>\n",
       "      <th>4</th>\n",
       "      <td>ENVS</td>\n",
       "      <td>HUMAN DIM WILDLIFE MGMT</td>\n",
       "      <td>ENVS4110NO1</td>\n",
       "    </tr>\n",
       "  </tbody>\n",
       "</table>\n",
       "</div>"
      ],
      "text/plain": [
       "  C_CRS_SBJ                         C_TITLE C_CRS_UNIQUE\n",
       "0      ANTH  PERSPECTIVES ON RACE (DSS)(CI)  ANTH3200TO1\n",
       "1      CHEM       GENERAL CHEMISTRY I (BPS)  CHEM1110KB1\n",
       "2      COMD  ETHICS/CRTCL THNK INTERPRETERS  COMD5920LO1\n",
       "3       ECN       APPLIED ECONOMETRICS (QI)   ECN4330AO1\n",
       "4      ENVS         HUMAN DIM WILDLIFE MGMT  ENVS4110NO1"
      ]
     },
     "execution_count": 4,
     "metadata": {},
     "output_type": "execute_result"
    }
   ],
   "source": [
    "source = pd.read_csv('source_complete.csv', encoding='latin-1')\n",
    "source.head()"
   ]
  },
  {
   "cell_type": "markdown",
   "metadata": {},
   "source": [
    "### Case Class\n",
    "\n",
    "This is a bundle container for holding multiple transforms needed for making each pass, fail, case."
   ]
  },
  {
   "cell_type": "code",
   "execution_count": 5,
   "metadata": {},
   "outputs": [],
   "source": [
    "from case import Case"
   ]
  },
  {
   "cell_type": "code",
   "execution_count": 6,
   "metadata": {},
   "outputs": [
    {
     "data": {
      "text/plain": [
       "{'message': 'empty'}"
      ]
     },
     "execution_count": 6,
     "metadata": {},
     "output_type": "execute_result"
    }
   ],
   "source": [
    "c = Case(source=source)\n",
    "c.report"
   ]
  },
  {
   "cell_type": "markdown",
   "metadata": {},
   "source": [
    "### Transformers\n",
    "\n",
    "These do the heavy lifting, taking in data, making changes, and returning necessary outputs."
   ]
  },
  {
   "cell_type": "code",
   "execution_count": 7,
   "metadata": {},
   "outputs": [],
   "source": [
    "from transformers import Transformer"
   ]
  },
  {
   "cell_type": "code",
   "execution_count": 8,
   "metadata": {},
   "outputs": [
    {
     "data": {
      "text/plain": [
       "{'Transformer': 'test',\n",
       " 'input_shape': (107633, 3),\n",
       " 'output_shape': (107633, 3),\n",
       " 'message': 'Nothing to Report'}"
      ]
     },
     "execution_count": 8,
     "metadata": {},
     "output_type": "execute_result"
    }
   ],
   "source": [
    "t = Transformer(name='test')\n",
    "t.transform(source)\n",
    "t.report"
   ]
  },
  {
   "cell_type": "code",
   "execution_count": 60,
   "metadata": {},
   "outputs": [],
   "source": [
    "## GOAl UI\n",
    "## How should the user interact with the transformers?\n",
    "\n",
    "# case.split(n=, size=[float])  # Split dataset into parts\n",
    "# case.add_col(n=, column=, specs={DATAGEN})  # Add column of given specificatuion to dataset\n",
    "# case.remove_col(n=, column=, index=)  # Remove column from dataset\n",
    "# case.change_type(n=, column=, index=)  # Change datatype of column in dataset"
   ]
  },
  {
   "cell_type": "markdown",
   "metadata": {},
   "source": [
    "#### Split\n",
    "\n",
    "Split data into n components of specified size"
   ]
  },
  {
   "cell_type": "code",
   "execution_count": 61,
   "metadata": {},
   "outputs": [],
   "source": [
    "class SplitTransform(Transformer):\n",
    "    def __init__(self, data: pd.DataFrame = None):\n",
    "        super().__init__(name='split')\n",
    "        self.transform(data)\n",
    "    \n",
    "    def transform(self, data):\n",
    "        super().transform(data)"
   ]
  },
  {
   "cell_type": "code",
   "execution_count": 62,
   "metadata": {},
   "outputs": [
    {
     "data": {
      "text/plain": [
       "{'message': 'empty'}"
      ]
     },
     "execution_count": 62,
     "metadata": {},
     "output_type": "execute_result"
    }
   ],
   "source": [
    "st = SplitTransform(data=source)\n",
    "st.report"
   ]
  },
  {
   "cell_type": "code",
   "execution_count": null,
   "metadata": {},
   "outputs": [],
   "source": []
  },
  {
   "cell_type": "code",
   "execution_count": null,
   "metadata": {},
   "outputs": [],
   "source": []
  },
  {
   "cell_type": "code",
   "execution_count": null,
   "metadata": {},
   "outputs": [],
   "source": [
    "\n",
    "\n",
    "\n",
    "\n",
    "\n",
    "\n",
    "\n",
    "\n",
    "\n",
    "\n",
    "\n",
    "\n",
    "\n",
    "\n",
    "\n",
    "\n",
    "\n",
    "\n",
    "\n"
   ]
  }
 ],
 "metadata": {
  "kernelspec": {
   "display_name": "Python 3",
   "language": "python",
   "name": "python3"
  },
  "language_info": {
   "codemirror_mode": {
    "name": "ipython",
    "version": 3
   },
   "file_extension": ".py",
   "mimetype": "text/x-python",
   "name": "python",
   "nbconvert_exporter": "python",
   "pygments_lexer": "ipython3",
   "version": "3.7.6"
  }
 },
 "nbformat": 4,
 "nbformat_minor": 4
}
